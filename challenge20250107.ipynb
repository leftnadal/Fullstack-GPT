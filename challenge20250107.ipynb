{
 "cells": [
  {
   "cell_type": "code",
   "execution_count": 6,
   "metadata": {},
   "outputs": [],
   "source": [
    "from langchain.chat_models import ChatOpenAI\n",
    "from langchain.prompts.few_shot import FewShotChatMessagePromptTemplate\n",
    "from langchain.callbacks import StreamingStdOutCallbackHandler\n",
    "from langchain.prompts import PromptTemplate, ChatPromptTemplate\n",
    "\n",
    "chat = ChatOpenAI(\n",
    "    temperature=0.1,\n",
    "    streaming=True,\n",
    "    callbacks=[\n",
    "        StreamingStdOutCallbackHandler(),\n",
    "    ],\n",
    ")"
   ]
  },
  {
   "cell_type": "code",
   "execution_count": 7,
   "metadata": {},
   "outputs": [],
   "source": [
    "examples = [\n",
    "    {\n",
    "        \"movie\": \"Godfather\",\n",
    "        \"answer\": \"\"\"\n",
    "        Here is what I know:\n",
    "        Director: Francis Ford Coppola\n",
    "        Main cast: Marlon Brando as Vito Corleone, Al Pacino as Michael Corleone, James Caan as Sonny Corleone, Robert Duvall as Tom Hagen, Diane Keaton as Kay Adams\n",
    "        Budget: Approximately $6 million\n",
    "        Box office revenue: Grossed over $250 million worldwide\n",
    "        Genres of the movie: Crime, Drama\n",
    "        Small synopsis:Set between 1945 and 1955, \"The Godfather\" chronicles the Corleone crime family under patriarch Vito Corleone. The narrative focuses on the transformation of his youngest son, Michael Corleone, from a reluctant family outsider to a ruthless mafia boss. The film delves into themes of power, loyalty, and family dynamics within the context of organized crime.\n",
    "        \"\"\",\n",
    "    },\n",
    "    {\n",
    "        \"movie\": \"Avengers\",\n",
    "        \"answer\": \"\"\"\n",
    "        Here is what I know:\n",
    "        Director: Joss Whedon\n",
    "        Main cast: Robert Downey Jr., Chris Evans, Mark Ruffalo, Chris Hemsworth, Scarlett Johansson, Jeremy Renner, Tom Hiddleston, Samuel L. Jackson\n",
    "        Budget: Approximately $220 million\n",
    "        Box office revenue: Grossed over $1.5 billion worldwide\n",
    "        Genres of the movie: Superhero, Action, Sci-Fi\n",
    "        Small synopsis:When the mischievous god Loki gains access to the unlimited power of the energy cube called the Tesseract, Nick Fury, director of S.H.I.E.L.D., initiates a superhero recruitment effort to defeat the unprecedented threat to Earth. Joining Fury's \"dream team\" are Iron Man, Captain America, Thor, The Hulk, Black Widow, and Hawkeye. Together, they must overcome their differences and learn to fight as a team to save humanity from Loki's army.\n",
    "        \"\"\",\n",
    "    },\n",
    "    {\n",
    "        \"movie\": \"E.T\",\n",
    "        \"answer\": \"\"\"\n",
    "        Here is what I know:\n",
    "        Director: Steven Spielberg\n",
    "        Main cast: Dee Wallace, Henry Thomas, Peter Coyote, Robert MacNaughton, Drew Barrymore\n",
    "        Budget: Approximately $10.5 million\n",
    "        Box office revenue: Grossed over $792.9 million worldwide\n",
    "        Genres of the movie: Science Fiction, Family\n",
    "        Small synopsis:The film tells the story of Elliott, a young boy who befriends an extraterrestrial, dubbed E.T., who is accidentally left behind on Earth. Along with his siblings, Elliott must find a way to help E.T. return home while keeping him hidden from government agents.\n",
    "        \"\"\",\n",
    "    },\n",
    "]"
   ]
  },
  {
   "cell_type": "code",
   "execution_count": 9,
   "metadata": {},
   "outputs": [
    {
     "name": "stdout",
     "output_type": "stream",
     "text": [
      "\n",
      "        Here is what I know:\n",
      "        Director: Peyton Reed\n",
      "        Main cast: Paul Rudd, Evangeline Lilly, Corey Stoll, Bobby Cannavale, Michael Peña, Tip \"T.I.\" Harris, Anthony Mackie, Judy Greer, Michael Douglas\n",
      "        Budget: Approximately $130 million\n",
      "        Box office revenue: Grossed over $500 million worldwide\n",
      "        Genres of the movie: Superhero, Action, Sci-Fi\n",
      "        Small synopsis: \"Ant-Man\" follows Scott Lang, a master thief who must embrace his inner hero and help his mentor, Dr. Hank Pym, protect the secret behind his Ant-Man suit from various threats. With the ability to shrink in size but increase in strength, Scott must pull off a heist that could save the world."
     ]
    },
    {
     "data": {
      "text/plain": [
       "AIMessageChunk(content='\\n        Here is what I know:\\n        Director: Peyton Reed\\n        Main cast: Paul Rudd, Evangeline Lilly, Corey Stoll, Bobby Cannavale, Michael Peña, Tip \"T.I.\" Harris, Anthony Mackie, Judy Greer, Michael Douglas\\n        Budget: Approximately $130 million\\n        Box office revenue: Grossed over $500 million worldwide\\n        Genres of the movie: Superhero, Action, Sci-Fi\\n        Small synopsis: \"Ant-Man\" follows Scott Lang, a master thief who must embrace his inner hero and help his mentor, Dr. Hank Pym, protect the secret behind his Ant-Man suit from various threats. With the ability to shrink in size but increase in strength, Scott must pull off a heist that could save the world.')"
      ]
     },
     "execution_count": 9,
     "metadata": {},
     "output_type": "execute_result"
    }
   ],
   "source": [
    "example_prompt = ChatPromptTemplate.from_messages([\n",
    "    (\"human\",\"What do you know about {movie}?\"),\n",
    "    (\"ai\", \"{answer}\")\n",
    "])\n",
    "example_select_prompt = FewShotChatMessagePromptTemplate(\n",
    "    example_prompt=example_prompt,\n",
    "    examples=examples,\n",
    ")\n",
    "\n",
    "final_prompt = ChatPromptTemplate.from_messages([\n",
    "    (\"system\", \"You are a movie marketing expert, you give short answers.\"),\n",
    "    example_select_prompt,\n",
    "    (\"human\", \"What do you know about {movie}?\")\n",
    "])\n",
    "\n",
    "chain = final_prompt | chat\n",
    "\n",
    "chain.invoke({\"movie\": \"Antman\"})"
   ]
  }
 ],
 "metadata": {
  "kernelspec": {
   "display_name": "env",
   "language": "python",
   "name": "python3"
  },
  "language_info": {
   "codemirror_mode": {
    "name": "ipython",
    "version": 3
   },
   "file_extension": ".py",
   "mimetype": "text/x-python",
   "name": "python",
   "nbconvert_exporter": "python",
   "pygments_lexer": "ipython3",
   "version": "3.11.6"
  }
 },
 "nbformat": 4,
 "nbformat_minor": 2
}
