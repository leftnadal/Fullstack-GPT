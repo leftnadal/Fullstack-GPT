{
 "cells": [
  {
   "cell_type": "code",
   "execution_count": 4,
   "metadata": {},
   "outputs": [
    {
     "data": {
      "text/plain": [
       "(' in the sky\\n\\nThere are eight planets in our solar system that can be seen in the sky with the naked eye: Mercury, Venus, Earth, Mars, Jupiter, Saturn, Uranus, and Neptune. However, there are also other objects in the sky that can sometimes be mistaken for planets, such as stars, moons, and comets. Additionally, there are potentially billions of planets in other solar systems in the universe, but they are too far away to be seen with the naked eye.',\n",
       " \"As of now, there are eight recognized planets in our solar system. They are:\\n\\n1. Mercury\\n2. Venus\\n3. Earth\\n4. Mars\\n5. Jupiter\\n6. Saturn\\n7. Uranus\\n8. Neptune\\n\\nAdditionally, there are numerous dwarf planets, including Pluto, Eris, Haumea, and Makemake. If you're asking about planets beyond our solar system, known as exoplanets, thousands have been discovered in various star systems. The exact number of exoplanets is continually increasing as new discoveries are made.\")"
      ]
     },
     "execution_count": 4,
     "metadata": {},
     "output_type": "execute_result"
    }
   ],
   "source": [
    "from langchain.llms import OpenAI\n",
    "from langchain.chat_models import ChatOpenAI\n",
    "\n",
    "llm = OpenAI(model=\"gpt-3.5-turbo-instruct\")\n",
    "\n",
    "chat = ChatOpenAI(model=\"gpt-4o-mini\")\n",
    "\n",
    "a = llm.predict(\"How many planets are there\")\n",
    "b = chat.predict(\"How many planets are there\")\n",
    "\n",
    "a, b"
   ]
  }
 ],
 "metadata": {
  "kernelspec": {
   "display_name": "env",
   "language": "python",
   "name": "python3"
  },
  "language_info": {
   "codemirror_mode": {
    "name": "ipython",
    "version": 3
   },
   "file_extension": ".py",
   "mimetype": "text/x-python",
   "name": "python",
   "nbconvert_exporter": "python",
   "pygments_lexer": "ipython3",
   "version": "3.11.6"
  }
 },
 "nbformat": 4,
 "nbformat_minor": 2
}
