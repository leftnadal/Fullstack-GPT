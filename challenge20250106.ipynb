{
 "cells": [
  {
   "cell_type": "code",
   "execution_count": 5,
   "metadata": {},
   "outputs": [
    {
     "data": {
      "text/plain": [
       "AIMessageChunk(content='This poem is a haiku that celebrates the programming language Python. The poet uses vivid imagery to describe Python as a graceful and elegant language that moves smoothly through the \"land of code.\" The simplicity and cleanliness of Python are emphasized through the choice of words and the structure of the haiku. The poet captures the essence of Python as a powerful and efficient tool for coding.')"
      ]
     },
     "execution_count": 5,
     "metadata": {},
     "output_type": "execute_result"
    }
   ],
   "source": [
    "from langchain.chat_models import ChatOpenAI\n",
    "from langchain.prompts import PromptTemplate, ChatPromptTemplate\n",
    "from langchain.callbacks import StreamingStdOutCallbackHandler\n",
    "\n",
    "chat = ChatOpenAI(\n",
    "    temperature=0.1,\n",
    "    streaming=True,\n",
    "    model=\"gpt-3.5-turbo\"\n",
    ")\n",
    "\n",
    "poet_template = ChatPromptTemplate.from_messages(\n",
    "    [(\"system\", \"Your jobs are poet, programmer. When you received, You should write Haikus about programming languages.\"),\n",
    "    (\"human\", \"{programming_language}\")]\n",
    ")\n",
    "\n",
    "poet_chain = poet_template | chat\n",
    "\n",
    "critic_template = ChatPromptTemplate.from_messages(\n",
    "[    (\"system\", \"You are a critic. When you received poet, you explain the poet.\"),\n",
    "    (\"human\", \"{poet}\")]\n",
    ")\n",
    "\n",
    "critic_chain = critic_template | chat\n",
    "\n",
    "final_chain = {\"poet\":poet_chain} | critic_chain\n",
    "\n",
    "final_chain.invoke({\"programming_language\":\"python\"})\n",
    "\n",
    "\n"
   ]
  }
 ],
 "metadata": {
  "kernelspec": {
   "display_name": "env",
   "language": "python",
   "name": "python3"
  },
  "language_info": {
   "codemirror_mode": {
    "name": "ipython",
    "version": 3
   },
   "file_extension": ".py",
   "mimetype": "text/x-python",
   "name": "python",
   "nbconvert_exporter": "python",
   "pygments_lexer": "ipython3",
   "version": "3.11.6"
  }
 },
 "nbformat": 4,
 "nbformat_minor": 2
}
